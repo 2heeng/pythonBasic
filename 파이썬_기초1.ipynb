{
  "cells": [
    {
      "cell_type": "markdown",
      "metadata": {
        "id": "view-in-github",
        "colab_type": "text"
      },
      "source": [
        "<a href=\"https://colab.research.google.com/github/2heeng/pythonBasic/blob/main/%ED%8C%8C%EC%9D%B4%EC%8D%AC_%EA%B8%B0%EC%B4%881.ipynb\" target=\"_parent\"><img src=\"https://colab.research.google.com/assets/colab-badge.svg\" alt=\"Open In Colab\"/></a>"
      ]
    },
    {
      "cell_type": "code",
      "execution_count": null,
      "id": "77593c12",
      "metadata": {
        "id": "77593c12",
        "outputId": "daa10142-9c2a-4e87-86b3-0d97d520fd8c"
      },
      "outputs": [
        {
          "name": "stdout",
          "output_type": "stream",
          "text": [
            "hi\n"
          ]
        }
      ],
      "source": [
        "str=\"hi\"\n",
        "print(str)"
      ]
    },
    {
      "cell_type": "code",
      "execution_count": null,
      "id": "68b61909",
      "metadata": {
        "id": "68b61909",
        "outputId": "4350ca56-2b0d-41ec-afcf-c99fc0193999"
      },
      "outputs": [
        {
          "data": {
            "text/plain": [
              "str"
            ]
          },
          "execution_count": 4,
          "metadata": {},
          "output_type": "execute_result"
        }
      ],
      "source": [
        "type(str)"
      ]
    },
    {
      "cell_type": "code",
      "execution_count": null,
      "id": "b70735f8",
      "metadata": {
        "id": "b70735f8"
      },
      "outputs": [],
      "source": [
        "num1=5"
      ]
    },
    {
      "cell_type": "code",
      "execution_count": null,
      "id": "4026ebb4",
      "metadata": {
        "id": "4026ebb4",
        "outputId": "e2088003-bc66-4273-be4e-5294754e1566"
      },
      "outputs": [
        {
          "data": {
            "text/plain": [
              "int"
            ]
          },
          "execution_count": 6,
          "metadata": {},
          "output_type": "execute_result"
        }
      ],
      "source": [
        "type(num1)"
      ]
    },
    {
      "cell_type": "code",
      "execution_count": null,
      "id": "012465ce",
      "metadata": {
        "id": "012465ce",
        "outputId": "93106249-1dd2-4c54-c755-7409e08abc3b"
      },
      "outputs": [
        {
          "ename": "TypeError",
          "evalue": "'str' object is not callable",
          "output_type": "error",
          "traceback": [
            "\u001b[1;31m---------------------------------------------------------------------------\u001b[0m",
            "\u001b[1;31mTypeError\u001b[0m                                 Traceback (most recent call last)",
            "Cell \u001b[1;32mIn[7], line 1\u001b[0m\n\u001b[1;32m----> 1\u001b[0m \u001b[38;5;28mstr\u001b[39m(num1)\n",
            "\u001b[1;31mTypeError\u001b[0m: 'str' object is not callable"
          ]
        }
      ],
      "source": [
        "str(num1)"
      ]
    },
    {
      "cell_type": "code",
      "execution_count": null,
      "id": "f2ef3603",
      "metadata": {
        "id": "f2ef3603",
        "outputId": "6aec2a2b-96b4-49b9-a5c4-604396f92ca3"
      },
      "outputs": [
        {
          "data": {
            "text/plain": [
              "int"
            ]
          },
          "execution_count": 8,
          "metadata": {},
          "output_type": "execute_result"
        }
      ],
      "source": [
        "type(num1)"
      ]
    },
    {
      "cell_type": "code",
      "execution_count": null,
      "id": "2e2a5769",
      "metadata": {
        "id": "2e2a5769",
        "outputId": "078b4390-fb7d-4b8e-e48e-433a8af2f346"
      },
      "outputs": [
        {
          "data": {
            "text/plain": [
              "140722039853992"
            ]
          },
          "execution_count": 9,
          "metadata": {},
          "output_type": "execute_result"
        }
      ],
      "source": [
        "id(num1)"
      ]
    },
    {
      "cell_type": "code",
      "execution_count": null,
      "id": "79d992dd",
      "metadata": {
        "id": "79d992dd",
        "outputId": "172a44b2-4079-4143-9fef-7c1359e59006"
      },
      "outputs": [
        {
          "ename": "TypeError",
          "evalue": "'str' object is not callable",
          "output_type": "error",
          "traceback": [
            "\u001b[1;31m---------------------------------------------------------------------------\u001b[0m",
            "\u001b[1;31mTypeError\u001b[0m                                 Traceback (most recent call last)",
            "Cell \u001b[1;32mIn[10], line 1\u001b[0m\n\u001b[1;32m----> 1\u001b[0m num1\u001b[38;5;241m=\u001b[39m\u001b[38;5;28mstr\u001b[39m(num1)\n",
            "\u001b[1;31mTypeError\u001b[0m: 'str' object is not callable"
          ]
        }
      ],
      "source": [
        "num1=str(num1)"
      ]
    },
    {
      "cell_type": "code",
      "execution_count": null,
      "id": "f08cb482",
      "metadata": {
        "id": "f08cb482"
      },
      "outputs": [],
      "source": [
        "num1=5"
      ]
    },
    {
      "cell_type": "code",
      "execution_count": null,
      "id": "841c0011",
      "metadata": {
        "id": "841c0011",
        "outputId": "2e5b44df-ab11-42ac-ae49-b170a5425ca1"
      },
      "outputs": [
        {
          "data": {
            "text/plain": [
              "int"
            ]
          },
          "execution_count": 12,
          "metadata": {},
          "output_type": "execute_result"
        }
      ],
      "source": [
        "type(num1)"
      ]
    },
    {
      "cell_type": "code",
      "execution_count": null,
      "id": "192621ff",
      "metadata": {
        "id": "192621ff",
        "outputId": "2682ba2f-66c3-49a7-e349-e1886f8b50b7"
      },
      "outputs": [
        {
          "ename": "TypeError",
          "evalue": "'str' object is not callable",
          "output_type": "error",
          "traceback": [
            "\u001b[1;31m---------------------------------------------------------------------------\u001b[0m",
            "\u001b[1;31mTypeError\u001b[0m                                 Traceback (most recent call last)",
            "Cell \u001b[1;32mIn[13], line 1\u001b[0m\n\u001b[1;32m----> 1\u001b[0m \u001b[38;5;28mstr\u001b[39m(num1)\n",
            "\u001b[1;31mTypeError\u001b[0m: 'str' object is not callable"
          ]
        }
      ],
      "source": [
        "str(num1)"
      ]
    },
    {
      "cell_type": "code",
      "execution_count": null,
      "id": "7ae99b71",
      "metadata": {
        "id": "7ae99b71",
        "outputId": "a4069c8c-b9bc-4e96-a94a-d3d1277e8d35"
      },
      "outputs": [
        {
          "data": {
            "text/plain": [
              "str"
            ]
          },
          "execution_count": 14,
          "metadata": {},
          "output_type": "execute_result"
        }
      ],
      "source": [
        "type(str)"
      ]
    },
    {
      "cell_type": "code",
      "execution_count": null,
      "id": "7e6f18e4",
      "metadata": {
        "id": "7e6f18e4"
      },
      "outputs": [],
      "source": [
        "import numpy"
      ]
    },
    {
      "cell_type": "code",
      "execution_count": null,
      "id": "638cf0aa",
      "metadata": {
        "id": "638cf0aa"
      },
      "outputs": [],
      "source": [
        "import numpy as np"
      ]
    },
    {
      "cell_type": "code",
      "execution_count": null,
      "id": "56741ba4",
      "metadata": {
        "id": "56741ba4",
        "outputId": "4eff7dc0-59bc-47ed-cd2f-415ce31e0664"
      },
      "outputs": [
        {
          "ename": "NameError",
          "evalue": "name 'li1' is not defined",
          "output_type": "error",
          "traceback": [
            "\u001b[1;31m---------------------------------------------------------------------------\u001b[0m",
            "\u001b[1;31mNameError\u001b[0m                                 Traceback (most recent call last)",
            "Cell \u001b[1;32mIn[18], line 1\u001b[0m\n\u001b[1;32m----> 1\u001b[0m np\u001b[38;5;241m.\u001b[39marray(li1)\n",
            "\u001b[1;31mNameError\u001b[0m: name 'li1' is not defined"
          ]
        }
      ],
      "source": [
        "np.array(li1)"
      ]
    },
    {
      "cell_type": "code",
      "execution_count": null,
      "id": "45325bff",
      "metadata": {
        "id": "45325bff"
      },
      "outputs": [],
      "source": [
        "li1=['hi',4]"
      ]
    },
    {
      "cell_type": "code",
      "execution_count": null,
      "id": "53b84c1c",
      "metadata": {
        "id": "53b84c1c",
        "outputId": "6f251973-6428-457a-baff-05aec89df9ee"
      },
      "outputs": [
        {
          "data": {
            "text/plain": [
              "array(['hi', '4'], dtype='<U11')"
            ]
          },
          "execution_count": 20,
          "metadata": {},
          "output_type": "execute_result"
        }
      ],
      "source": [
        "np.array(li1)"
      ]
    },
    {
      "cell_type": "code",
      "execution_count": null,
      "id": "7c4db988",
      "metadata": {
        "id": "7c4db988"
      },
      "outputs": [],
      "source": [
        "arr1=np.array(li1)"
      ]
    },
    {
      "cell_type": "code",
      "execution_count": null,
      "id": "18f4285f",
      "metadata": {
        "id": "18f4285f",
        "outputId": "d7c437a7-65b1-4366-ac5a-4f4fe4299181"
      },
      "outputs": [
        {
          "data": {
            "text/plain": [
              "numpy.ndarray"
            ]
          },
          "execution_count": 22,
          "metadata": {},
          "output_type": "execute_result"
        }
      ],
      "source": [
        "type(arr1)"
      ]
    },
    {
      "cell_type": "code",
      "execution_count": null,
      "id": "fceca77c",
      "metadata": {
        "id": "fceca77c",
        "outputId": "59195966-aca7-4007-c242-fd9c36eb77a8"
      },
      "outputs": [
        {
          "name": "stdout",
          "output_type": "stream",
          "text": [
            "Help on class set in module builtins:\n",
            "\n",
            "class set(object)\n",
            " |  set() -> new empty set object\n",
            " |  set(iterable) -> new set object\n",
            " |  \n",
            " |  Build an unordered collection of unique elements.\n",
            " |  \n",
            " |  Methods defined here:\n",
            " |  \n",
            " |  __and__(self, value, /)\n",
            " |      Return self&value.\n",
            " |  \n",
            " |  __contains__(...)\n",
            " |      x.__contains__(y) <==> y in x.\n",
            " |  \n",
            " |  __eq__(self, value, /)\n",
            " |      Return self==value.\n",
            " |  \n",
            " |  __ge__(self, value, /)\n",
            " |      Return self>=value.\n",
            " |  \n",
            " |  __getattribute__(self, name, /)\n",
            " |      Return getattr(self, name).\n",
            " |  \n",
            " |  __gt__(self, value, /)\n",
            " |      Return self>value.\n",
            " |  \n",
            " |  __iand__(self, value, /)\n",
            " |      Return self&=value.\n",
            " |  \n",
            " |  __init__(self, /, *args, **kwargs)\n",
            " |      Initialize self.  See help(type(self)) for accurate signature.\n",
            " |  \n",
            " |  __ior__(self, value, /)\n",
            " |      Return self|=value.\n",
            " |  \n",
            " |  __isub__(self, value, /)\n",
            " |      Return self-=value.\n",
            " |  \n",
            " |  __iter__(self, /)\n",
            " |      Implement iter(self).\n",
            " |  \n",
            " |  __ixor__(self, value, /)\n",
            " |      Return self^=value.\n",
            " |  \n",
            " |  __le__(self, value, /)\n",
            " |      Return self<=value.\n",
            " |  \n",
            " |  __len__(self, /)\n",
            " |      Return len(self).\n",
            " |  \n",
            " |  __lt__(self, value, /)\n",
            " |      Return self<value.\n",
            " |  \n",
            " |  __ne__(self, value, /)\n",
            " |      Return self!=value.\n",
            " |  \n",
            " |  __or__(self, value, /)\n",
            " |      Return self|value.\n",
            " |  \n",
            " |  __rand__(self, value, /)\n",
            " |      Return value&self.\n",
            " |  \n",
            " |  __reduce__(...)\n",
            " |      Return state information for pickling.\n",
            " |  \n",
            " |  __repr__(self, /)\n",
            " |      Return repr(self).\n",
            " |  \n",
            " |  __ror__(self, value, /)\n",
            " |      Return value|self.\n",
            " |  \n",
            " |  __rsub__(self, value, /)\n",
            " |      Return value-self.\n",
            " |  \n",
            " |  __rxor__(self, value, /)\n",
            " |      Return value^self.\n",
            " |  \n",
            " |  __sizeof__(...)\n",
            " |      S.__sizeof__() -> size of S in memory, in bytes\n",
            " |  \n",
            " |  __sub__(self, value, /)\n",
            " |      Return self-value.\n",
            " |  \n",
            " |  __xor__(self, value, /)\n",
            " |      Return self^value.\n",
            " |  \n",
            " |  add(...)\n",
            " |      Add an element to a set.\n",
            " |      \n",
            " |      This has no effect if the element is already present.\n",
            " |  \n",
            " |  clear(...)\n",
            " |      Remove all elements from this set.\n",
            " |  \n",
            " |  copy(...)\n",
            " |      Return a shallow copy of a set.\n",
            " |  \n",
            " |  difference(...)\n",
            " |      Return the difference of two or more sets as a new set.\n",
            " |      \n",
            " |      (i.e. all elements that are in this set but not the others.)\n",
            " |  \n",
            " |  difference_update(...)\n",
            " |      Remove all elements of another set from this set.\n",
            " |  \n",
            " |  discard(...)\n",
            " |      Remove an element from a set if it is a member.\n",
            " |      \n",
            " |      Unlike set.remove(), the discard() method does not raise\n",
            " |      an exception when an element is missing from the set.\n",
            " |  \n",
            " |  intersection(...)\n",
            " |      Return the intersection of two sets as a new set.\n",
            " |      \n",
            " |      (i.e. all elements that are in both sets.)\n",
            " |  \n",
            " |  intersection_update(...)\n",
            " |      Update a set with the intersection of itself and another.\n",
            " |  \n",
            " |  isdisjoint(...)\n",
            " |      Return True if two sets have a null intersection.\n",
            " |  \n",
            " |  issubset(...)\n",
            " |      Report whether another set contains this set.\n",
            " |  \n",
            " |  issuperset(...)\n",
            " |      Report whether this set contains another set.\n",
            " |  \n",
            " |  pop(...)\n",
            " |      Remove and return an arbitrary set element.\n",
            " |      Raises KeyError if the set is empty.\n",
            " |  \n",
            " |  remove(...)\n",
            " |      Remove an element from a set; it must be a member.\n",
            " |      \n",
            " |      If the element is not a member, raise a KeyError.\n",
            " |  \n",
            " |  symmetric_difference(...)\n",
            " |      Return the symmetric difference of two sets as a new set.\n",
            " |      \n",
            " |      (i.e. all elements that are in exactly one of the sets.)\n",
            " |  \n",
            " |  symmetric_difference_update(...)\n",
            " |      Update a set with the symmetric difference of itself and another.\n",
            " |  \n",
            " |  union(...)\n",
            " |      Return the union of sets as a new set.\n",
            " |      \n",
            " |      (i.e. all elements that are in either set.)\n",
            " |  \n",
            " |  update(...)\n",
            " |      Update a set with the union of itself and others.\n",
            " |  \n",
            " |  ----------------------------------------------------------------------\n",
            " |  Class methods defined here:\n",
            " |  \n",
            " |  __class_getitem__(...) from builtins.type\n",
            " |      See PEP 585\n",
            " |  \n",
            " |  ----------------------------------------------------------------------\n",
            " |  Static methods defined here:\n",
            " |  \n",
            " |  __new__(*args, **kwargs) from builtins.type\n",
            " |      Create and return a new object.  See help(type) for accurate signature.\n",
            " |  \n",
            " |  ----------------------------------------------------------------------\n",
            " |  Data and other attributes defined here:\n",
            " |  \n",
            " |  __hash__ = None\n",
            "\n"
          ]
        }
      ],
      "source": [
        "help(set)"
      ]
    },
    {
      "cell_type": "code",
      "execution_count": null,
      "id": "dc02e1fb",
      "metadata": {
        "id": "dc02e1fb",
        "outputId": "29347db1-8813-4fee-8d97-6d100742037d"
      },
      "outputs": [
        {
          "data": {
            "text/plain": [
              "{1, 2, 3}"
            ]
          },
          "execution_count": 24,
          "metadata": {},
          "output_type": "execute_result"
        }
      ],
      "source": [
        "set([1,2,3])"
      ]
    },
    {
      "cell_type": "code",
      "execution_count": null,
      "id": "0ca0470e",
      "metadata": {
        "id": "0ca0470e",
        "outputId": "61b67cf1-18ce-4333-8645-a485c5b43609"
      },
      "outputs": [
        {
          "name": "stdout",
          "output_type": "stream",
          "text": [
            "Help on class map in module builtins:\n",
            "\n",
            "class map(object)\n",
            " |  map(func, *iterables) --> map object\n",
            " |  \n",
            " |  Make an iterator that computes the function using arguments from\n",
            " |  each of the iterables.  Stops when the shortest iterable is exhausted.\n",
            " |  \n",
            " |  Methods defined here:\n",
            " |  \n",
            " |  __getattribute__(self, name, /)\n",
            " |      Return getattr(self, name).\n",
            " |  \n",
            " |  __iter__(self, /)\n",
            " |      Implement iter(self).\n",
            " |  \n",
            " |  __next__(self, /)\n",
            " |      Implement next(self).\n",
            " |  \n",
            " |  __reduce__(...)\n",
            " |      Return state information for pickling.\n",
            " |  \n",
            " |  ----------------------------------------------------------------------\n",
            " |  Static methods defined here:\n",
            " |  \n",
            " |  __new__(*args, **kwargs) from builtins.type\n",
            " |      Create and return a new object.  See help(type) for accurate signature.\n",
            "\n"
          ]
        }
      ],
      "source": [
        "help(map)"
      ]
    },
    {
      "cell_type": "code",
      "execution_count": null,
      "id": "8f8bb5fc",
      "metadata": {
        "id": "8f8bb5fc",
        "outputId": "b4fce37a-2552-4454-b459-67943062b0dc"
      },
      "outputs": [
        {
          "name": "stdout",
          "output_type": "stream",
          "text": [
            "Help on class dict in module builtins:\n",
            "\n",
            "class dict(object)\n",
            " |  dict() -> new empty dictionary\n",
            " |  dict(mapping) -> new dictionary initialized from a mapping object's\n",
            " |      (key, value) pairs\n",
            " |  dict(iterable) -> new dictionary initialized as if via:\n",
            " |      d = {}\n",
            " |      for k, v in iterable:\n",
            " |          d[k] = v\n",
            " |  dict(**kwargs) -> new dictionary initialized with the name=value pairs\n",
            " |      in the keyword argument list.  For example:  dict(one=1, two=2)\n",
            " |  \n",
            " |  Built-in subclasses:\n",
            " |      StgDict\n",
            " |  \n",
            " |  Methods defined here:\n",
            " |  \n",
            " |  __contains__(self, key, /)\n",
            " |      True if the dictionary has the specified key, else False.\n",
            " |  \n",
            " |  __delitem__(self, key, /)\n",
            " |      Delete self[key].\n",
            " |  \n",
            " |  __eq__(self, value, /)\n",
            " |      Return self==value.\n",
            " |  \n",
            " |  __ge__(self, value, /)\n",
            " |      Return self>=value.\n",
            " |  \n",
            " |  __getattribute__(self, name, /)\n",
            " |      Return getattr(self, name).\n",
            " |  \n",
            " |  __getitem__(...)\n",
            " |      x.__getitem__(y) <==> x[y]\n",
            " |  \n",
            " |  __gt__(self, value, /)\n",
            " |      Return self>value.\n",
            " |  \n",
            " |  __init__(self, /, *args, **kwargs)\n",
            " |      Initialize self.  See help(type(self)) for accurate signature.\n",
            " |  \n",
            " |  __ior__(self, value, /)\n",
            " |      Return self|=value.\n",
            " |  \n",
            " |  __iter__(self, /)\n",
            " |      Implement iter(self).\n",
            " |  \n",
            " |  __le__(self, value, /)\n",
            " |      Return self<=value.\n",
            " |  \n",
            " |  __len__(self, /)\n",
            " |      Return len(self).\n",
            " |  \n",
            " |  __lt__(self, value, /)\n",
            " |      Return self<value.\n",
            " |  \n",
            " |  __ne__(self, value, /)\n",
            " |      Return self!=value.\n",
            " |  \n",
            " |  __or__(self, value, /)\n",
            " |      Return self|value.\n",
            " |  \n",
            " |  __repr__(self, /)\n",
            " |      Return repr(self).\n",
            " |  \n",
            " |  __reversed__(self, /)\n",
            " |      Return a reverse iterator over the dict keys.\n",
            " |  \n",
            " |  __ror__(self, value, /)\n",
            " |      Return value|self.\n",
            " |  \n",
            " |  __setitem__(self, key, value, /)\n",
            " |      Set self[key] to value.\n",
            " |  \n",
            " |  __sizeof__(...)\n",
            " |      D.__sizeof__() -> size of D in memory, in bytes\n",
            " |  \n",
            " |  clear(...)\n",
            " |      D.clear() -> None.  Remove all items from D.\n",
            " |  \n",
            " |  copy(...)\n",
            " |      D.copy() -> a shallow copy of D\n",
            " |  \n",
            " |  get(self, key, default=None, /)\n",
            " |      Return the value for key if key is in the dictionary, else default.\n",
            " |  \n",
            " |  items(...)\n",
            " |      D.items() -> a set-like object providing a view on D's items\n",
            " |  \n",
            " |  keys(...)\n",
            " |      D.keys() -> a set-like object providing a view on D's keys\n",
            " |  \n",
            " |  pop(...)\n",
            " |      D.pop(k[,d]) -> v, remove specified key and return the corresponding value.\n",
            " |      \n",
            " |      If the key is not found, return the default if given; otherwise,\n",
            " |      raise a KeyError.\n",
            " |  \n",
            " |  popitem(self, /)\n",
            " |      Remove and return a (key, value) pair as a 2-tuple.\n",
            " |      \n",
            " |      Pairs are returned in LIFO (last-in, first-out) order.\n",
            " |      Raises KeyError if the dict is empty.\n",
            " |  \n",
            " |  setdefault(self, key, default=None, /)\n",
            " |      Insert key with a value of default if key is not in the dictionary.\n",
            " |      \n",
            " |      Return the value for key if key is in the dictionary, else default.\n",
            " |  \n",
            " |  update(...)\n",
            " |      D.update([E, ]**F) -> None.  Update D from dict/iterable E and F.\n",
            " |      If E is present and has a .keys() method, then does:  for k in E: D[k] = E[k]\n",
            " |      If E is present and lacks a .keys() method, then does:  for k, v in E: D[k] = v\n",
            " |      In either case, this is followed by: for k in F:  D[k] = F[k]\n",
            " |  \n",
            " |  values(...)\n",
            " |      D.values() -> an object providing a view on D's values\n",
            " |  \n",
            " |  ----------------------------------------------------------------------\n",
            " |  Class methods defined here:\n",
            " |  \n",
            " |  __class_getitem__(...) from builtins.type\n",
            " |      See PEP 585\n",
            " |  \n",
            " |  fromkeys(iterable, value=None, /) from builtins.type\n",
            " |      Create a new dictionary with keys from iterable and values set to value.\n",
            " |  \n",
            " |  ----------------------------------------------------------------------\n",
            " |  Static methods defined here:\n",
            " |  \n",
            " |  __new__(*args, **kwargs) from builtins.type\n",
            " |      Create and return a new object.  See help(type) for accurate signature.\n",
            " |  \n",
            " |  ----------------------------------------------------------------------\n",
            " |  Data and other attributes defined here:\n",
            " |  \n",
            " |  __hash__ = None\n",
            "\n"
          ]
        }
      ],
      "source": [
        "help(dict)"
      ]
    },
    {
      "cell_type": "code",
      "execution_count": null,
      "id": "0bf200d6",
      "metadata": {
        "id": "0bf200d6"
      },
      "outputs": [],
      "source": [
        "dict1={'a':'apple'}"
      ]
    },
    {
      "cell_type": "code",
      "execution_count": null,
      "id": "0482b4db",
      "metadata": {
        "id": "0482b4db",
        "outputId": "853aa8f9-9f67-4c21-ae5e-d5edc79e759b"
      },
      "outputs": [
        {
          "data": {
            "text/plain": [
              "dict"
            ]
          },
          "execution_count": 28,
          "metadata": {},
          "output_type": "execute_result"
        }
      ],
      "source": [
        "type(dict1)"
      ]
    },
    {
      "cell_type": "code",
      "execution_count": null,
      "id": "2e910d22",
      "metadata": {
        "id": "2e910d22",
        "outputId": "341f9baa-226b-45d1-bfcd-5f8863abc045"
      },
      "outputs": [
        {
          "data": {
            "text/plain": [
              "'apple'"
            ]
          },
          "execution_count": 30,
          "metadata": {},
          "output_type": "execute_result"
        }
      ],
      "source": [
        "dict1['a']"
      ]
    },
    {
      "cell_type": "code",
      "execution_count": null,
      "id": "a9594096",
      "metadata": {
        "id": "a9594096"
      },
      "outputs": [],
      "source": [
        "dict1={'a':'apple','b':'banana'}"
      ]
    },
    {
      "cell_type": "code",
      "execution_count": null,
      "id": "21a0c836",
      "metadata": {
        "id": "21a0c836",
        "outputId": "6a8ab59a-6ca3-4afb-e875-80a5c1593552"
      },
      "outputs": [
        {
          "data": {
            "text/plain": [
              "'banana'"
            ]
          },
          "execution_count": 32,
          "metadata": {},
          "output_type": "execute_result"
        }
      ],
      "source": [
        "dict1['b']"
      ]
    },
    {
      "cell_type": "code",
      "execution_count": null,
      "id": "39c34a91",
      "metadata": {
        "id": "39c34a91"
      },
      "outputs": [],
      "source": [
        "#list"
      ]
    },
    {
      "cell_type": "code",
      "execution_count": null,
      "id": "c198d035",
      "metadata": {
        "id": "c198d035"
      },
      "outputs": [],
      "source": [
        "li2=[1,\"hi\",True]"
      ]
    },
    {
      "cell_type": "code",
      "execution_count": null,
      "id": "35eaf0a0",
      "metadata": {
        "id": "35eaf0a0",
        "outputId": "e1458b89-3703-43b2-cd9a-a2aed2ba2a94"
      },
      "outputs": [
        {
          "data": {
            "text/plain": [
              "1"
            ]
          },
          "execution_count": 35,
          "metadata": {},
          "output_type": "execute_result"
        }
      ],
      "source": [
        "li2[0]"
      ]
    },
    {
      "cell_type": "code",
      "execution_count": null,
      "id": "3dc4cbdc",
      "metadata": {
        "id": "3dc4cbdc",
        "outputId": "0f44fb01-e24a-4d5a-c7f4-838d2966f2b1"
      },
      "outputs": [
        {
          "data": {
            "text/plain": [
              "int"
            ]
          },
          "execution_count": 36,
          "metadata": {},
          "output_type": "execute_result"
        }
      ],
      "source": [
        "type(li2[0])"
      ]
    },
    {
      "cell_type": "code",
      "execution_count": null,
      "id": "f61b5ab6",
      "metadata": {
        "id": "f61b5ab6"
      },
      "outputs": [],
      "source": [
        "#값을 바꾸고 싶지 않을 경우 tuple()"
      ]
    },
    {
      "cell_type": "code",
      "execution_count": null,
      "id": "fee8bf3b",
      "metadata": {
        "id": "fee8bf3b"
      },
      "outputs": [],
      "source": [
        "tu1=(1,\"hi\",True)"
      ]
    },
    {
      "cell_type": "code",
      "execution_count": null,
      "id": "6fe92d52",
      "metadata": {
        "id": "6fe92d52",
        "outputId": "04bf3511-71d8-4fd1-b2e8-6b9300e59f84"
      },
      "outputs": [
        {
          "data": {
            "text/plain": [
              "tuple"
            ]
          },
          "execution_count": 39,
          "metadata": {},
          "output_type": "execute_result"
        }
      ],
      "source": [
        "type(tu1)"
      ]
    },
    {
      "cell_type": "code",
      "execution_count": null,
      "id": "4a73d31a",
      "metadata": {
        "id": "4a73d31a",
        "outputId": "2ed56691-35c2-488f-9e10-37d370fc6fd5"
      },
      "outputs": [
        {
          "ename": "TypeError",
          "evalue": "'type' object does not support item assignment",
          "output_type": "error",
          "traceback": [
            "\u001b[1;31m---------------------------------------------------------------------------\u001b[0m",
            "\u001b[1;31mTypeError\u001b[0m                                 Traceback (most recent call last)",
            "Cell \u001b[1;32mIn[40], line 1\u001b[0m\n\u001b[1;32m----> 1\u001b[0m \u001b[38;5;28mtuple\u001b[39m[\u001b[38;5;241m0\u001b[39m]\u001b[38;5;241m=\u001b[39m\u001b[38;5;241m2\u001b[39m\n",
            "\u001b[1;31mTypeError\u001b[0m: 'type' object does not support item assignment"
          ]
        }
      ],
      "source": [
        "tuple[0]=2"
      ]
    },
    {
      "cell_type": "code",
      "execution_count": null,
      "id": "1018466b",
      "metadata": {
        "id": "1018466b"
      },
      "outputs": [],
      "source": [
        "#값을 다시 할당할 수 없음"
      ]
    },
    {
      "cell_type": "code",
      "execution_count": null,
      "id": "6b3a72b2",
      "metadata": {
        "id": "6b3a72b2"
      },
      "outputs": [],
      "source": []
    }
  ],
  "metadata": {
    "kernelspec": {
      "display_name": "Python 3 (ipykernel)",
      "language": "python",
      "name": "python3"
    },
    "language_info": {
      "codemirror_mode": {
        "name": "ipython",
        "version": 3
      },
      "file_extension": ".py",
      "mimetype": "text/x-python",
      "name": "python",
      "nbconvert_exporter": "python",
      "pygments_lexer": "ipython3",
      "version": "3.11.5"
    },
    "colab": {
      "provenance": [],
      "include_colab_link": true
    }
  },
  "nbformat": 4,
  "nbformat_minor": 5
}