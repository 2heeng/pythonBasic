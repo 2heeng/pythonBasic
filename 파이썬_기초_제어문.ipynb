{
  "cells": [
    {
      "cell_type": "markdown",
      "metadata": {
        "id": "view-in-github",
        "colab_type": "text"
      },
      "source": [
        "<a href=\"https://colab.research.google.com/github/2heeng/pythonBasic/blob/main/%ED%8C%8C%EC%9D%B4%EC%8D%AC_%EA%B8%B0%EC%B4%88_%EC%A0%9C%EC%96%B4%EB%AC%B8.ipynb\" target=\"_parent\"><img src=\"https://colab.research.google.com/assets/colab-badge.svg\" alt=\"Open In Colab\"/></a>"
      ]
    },
    {
      "cell_type": "code",
      "execution_count": null,
      "id": "386404d2",
      "metadata": {
        "id": "386404d2",
        "outputId": "18e00c6d-95ae-40f5-9af1-51d94142ddac"
      },
      "outputs": [
        {
          "name": "stdout",
          "output_type": "stream",
          "text": [
            "hi\n"
          ]
        }
      ],
      "source": [
        "if True:\n",
        "    print(\"hi\")"
      ]
    },
    {
      "cell_type": "code",
      "execution_count": null,
      "id": "8e0d593c",
      "metadata": {
        "id": "8e0d593c",
        "outputId": "b55a936b-2f07-40fd-d12c-47c0b72ff74c"
      },
      "outputs": [
        {
          "name": "stdout",
          "output_type": "stream",
          "text": [
            "hi\n"
          ]
        }
      ],
      "source": [
        "if True:\n",
        "    print(\"hi\")\n",
        "else:\n",
        "    print(\"false\")"
      ]
    },
    {
      "cell_type": "code",
      "execution_count": null,
      "id": "317ca363",
      "metadata": {
        "id": "317ca363",
        "outputId": "0192e12e-0649-4c4c-c355-9de984dd7844"
      },
      "outputs": [
        {
          "ename": "SyntaxError",
          "evalue": "expected ':' (786274159.py, line 5)",
          "output_type": "error",
          "traceback": [
            "\u001b[1;36m  Cell \u001b[1;32mIn[3], line 5\u001b[1;36m\u001b[0m\n\u001b[1;33m    else False:\u001b[0m\n\u001b[1;37m         ^\u001b[0m\n\u001b[1;31mSyntaxError\u001b[0m\u001b[1;31m:\u001b[0m expected ':'\n"
          ]
        }
      ],
      "source": [
        "if False:\n",
        "    print(\"hi\")\n",
        "elif True:\n",
        "    print(\"여기는 elif\")\n",
        "else False:\n",
        "    print(\"여기는 else\")"
      ]
    },
    {
      "cell_type": "code",
      "execution_count": null,
      "id": "42df729e",
      "metadata": {
        "id": "42df729e",
        "outputId": "87f0ff3c-1733-4dcf-a97c-32face5999c6"
      },
      "outputs": [
        {
          "name": "stdout",
          "output_type": "stream",
          "text": [
            "여기는 elif\n"
          ]
        }
      ],
      "source": [
        "if False:\n",
        "    print(\"hi\")\n",
        "elif True:\n",
        "    print(\"여기는 elif\")\n",
        "else:\n",
        "    print(\"여기는 else\")"
      ]
    },
    {
      "cell_type": "code",
      "execution_count": null,
      "id": "2a5b8b7c",
      "metadata": {
        "id": "2a5b8b7c"
      },
      "outputs": [],
      "source": [
        "#반복문(숫자찍기,컬렉션찍기-배열,리스트,문자열,셋,맵,튜플,딕셔너리)"
      ]
    },
    {
      "cell_type": "code",
      "execution_count": null,
      "id": "4be11575",
      "metadata": {
        "id": "4be11575"
      },
      "outputs": [],
      "source": [
        "#숫자찍기"
      ]
    },
    {
      "cell_type": "code",
      "execution_count": null,
      "id": "f7940c51",
      "metadata": {
        "id": "f7940c51"
      },
      "outputs": [],
      "source": [
        "#help(range)"
      ]
    },
    {
      "cell_type": "code",
      "execution_count": null,
      "id": "e765058d",
      "metadata": {
        "id": "e765058d",
        "outputId": "fc628dba-1af1-470a-b5b3-7e0aed19707b"
      },
      "outputs": [
        {
          "ename": "SyntaxError",
          "evalue": "expected ':' (2890242097.py, line 1)",
          "output_type": "error",
          "traceback": [
            "\u001b[1;36m  Cell \u001b[1;32mIn[10], line 1\u001b[1;36m\u001b[0m\n\u001b[1;33m    for i in range\u001b[0m\n\u001b[1;37m                  ^\u001b[0m\n\u001b[1;31mSyntaxError\u001b[0m\u001b[1;31m:\u001b[0m expected ':'\n"
          ]
        }
      ],
      "source": [
        "for i in range"
      ]
    },
    {
      "cell_type": "code",
      "execution_count": null,
      "id": "03e74726",
      "metadata": {
        "id": "03e74726",
        "outputId": "1d2f1f3d-307c-4008-bc07-8880bcdcc191"
      },
      "outputs": [
        {
          "data": {
            "text/plain": [
              "range(0, 5)"
            ]
          },
          "execution_count": 11,
          "metadata": {},
          "output_type": "execute_result"
        }
      ],
      "source": [
        "range(5)"
      ]
    },
    {
      "cell_type": "code",
      "execution_count": null,
      "id": "142c7b4c",
      "metadata": {
        "id": "142c7b4c",
        "outputId": "cc83edd6-c417-4ce7-aab4-ff9aca07ad3f"
      },
      "outputs": [
        {
          "data": {
            "text/plain": [
              "[0, 1, 2, 3, 4]"
            ]
          },
          "execution_count": 12,
          "metadata": {},
          "output_type": "execute_result"
        }
      ],
      "source": [
        "list(range(5))"
      ]
    },
    {
      "cell_type": "code",
      "execution_count": null,
      "id": "161988a6",
      "metadata": {
        "id": "161988a6",
        "outputId": "f212a5c6-33c7-47da-b89f-7b665da35400"
      },
      "outputs": [
        {
          "name": "stdout",
          "output_type": "stream",
          "text": [
            "0\n",
            "1\n",
            "2\n",
            "3\n",
            "4\n"
          ]
        }
      ],
      "source": [
        "for i in range(5):\n",
        "    print(i)"
      ]
    },
    {
      "cell_type": "code",
      "execution_count": null,
      "id": "8378af2e",
      "metadata": {
        "id": "8378af2e"
      },
      "outputs": [],
      "source": [
        "#컬렉션찍기-배열,리스트,문자열,셋,맵,튜플,딕셔너리"
      ]
    },
    {
      "cell_type": "code",
      "execution_count": null,
      "id": "89806ce0",
      "metadata": {
        "id": "89806ce0"
      },
      "outputs": [],
      "source": [
        "#문자열"
      ]
    },
    {
      "cell_type": "code",
      "execution_count": null,
      "id": "e0ea2ade",
      "metadata": {
        "id": "e0ea2ade",
        "outputId": "0f6c2a8d-2e3a-4240-bcd8-f36b509ac946"
      },
      "outputs": [
        {
          "name": "stdout",
          "output_type": "stream",
          "text": [
            "h\n",
            "e\n",
            "l\n",
            "l\n",
            "o\n"
          ]
        }
      ],
      "source": [
        "for i in \"hello\":\n",
        "    print(i)"
      ]
    },
    {
      "cell_type": "code",
      "execution_count": null,
      "id": "46af4b6e",
      "metadata": {
        "id": "46af4b6e"
      },
      "outputs": [],
      "source": [
        "#배열"
      ]
    },
    {
      "cell_type": "code",
      "execution_count": null,
      "id": "d88b363f",
      "metadata": {
        "id": "d88b363f"
      },
      "outputs": [],
      "source": [
        "import numpy as np"
      ]
    },
    {
      "cell_type": "code",
      "execution_count": null,
      "id": "72abf814",
      "metadata": {
        "id": "72abf814"
      },
      "outputs": [],
      "source": [
        "arr1=np.array([1,2,3])"
      ]
    },
    {
      "cell_type": "code",
      "execution_count": null,
      "id": "7047cd54",
      "metadata": {
        "id": "7047cd54",
        "outputId": "f7fb0ec9-3718-46cf-be55-e0c65eb9f60d"
      },
      "outputs": [
        {
          "data": {
            "text/plain": [
              "numpy.ndarray"
            ]
          },
          "execution_count": 20,
          "metadata": {},
          "output_type": "execute_result"
        }
      ],
      "source": [
        "type(arr1)"
      ]
    },
    {
      "cell_type": "code",
      "execution_count": null,
      "id": "cef676b0",
      "metadata": {
        "id": "cef676b0",
        "outputId": "1daa439f-d642-4d2a-96fa-8b5026b90c4e"
      },
      "outputs": [
        {
          "name": "stdout",
          "output_type": "stream",
          "text": [
            "1\n",
            "2\n",
            "3\n"
          ]
        }
      ],
      "source": [
        "for i in arr1:\n",
        "    print(i)"
      ]
    },
    {
      "cell_type": "code",
      "execution_count": null,
      "id": "3653dea0",
      "metadata": {
        "id": "3653dea0"
      },
      "outputs": [],
      "source": [
        "#리스트(문자,숫자 다 됨)"
      ]
    },
    {
      "cell_type": "code",
      "execution_count": null,
      "id": "a14cde77",
      "metadata": {
        "id": "a14cde77"
      },
      "outputs": [],
      "source": [
        "li1=['a',2,3,'d']"
      ]
    },
    {
      "cell_type": "code",
      "execution_count": null,
      "id": "91add146",
      "metadata": {
        "id": "91add146",
        "outputId": "54a0fce8-3eab-4b80-8daa-294f369de07c"
      },
      "outputs": [
        {
          "name": "stdout",
          "output_type": "stream",
          "text": [
            "a\n",
            "2\n",
            "3\n",
            "d\n"
          ]
        }
      ],
      "source": [
        "for i in li1:\n",
        "    print(i)"
      ]
    },
    {
      "cell_type": "code",
      "execution_count": null,
      "id": "86f638a8",
      "metadata": {
        "id": "86f638a8"
      },
      "outputs": [],
      "source": [
        "#튜플(문자,숫자 다 됨)"
      ]
    },
    {
      "cell_type": "code",
      "execution_count": null,
      "id": "76b899b9",
      "metadata": {
        "id": "76b899b9"
      },
      "outputs": [],
      "source": [
        "tu1=('a',2,3,'d')"
      ]
    },
    {
      "cell_type": "code",
      "execution_count": null,
      "id": "ec79f61c",
      "metadata": {
        "id": "ec79f61c",
        "outputId": "e876e3cb-2cc4-4cfd-ce9f-51ae612d9914"
      },
      "outputs": [
        {
          "name": "stdout",
          "output_type": "stream",
          "text": [
            "a\n",
            "2\n",
            "3\n",
            "d\n"
          ]
        }
      ],
      "source": [
        "for i in tu1:\n",
        "    print(i)"
      ]
    },
    {
      "cell_type": "code",
      "execution_count": null,
      "id": "705267b2",
      "metadata": {
        "id": "705267b2"
      },
      "outputs": [],
      "source": [
        "#딕셔너리(키밸류)"
      ]
    },
    {
      "cell_type": "code",
      "execution_count": null,
      "id": "f26d2fb6",
      "metadata": {
        "id": "f26d2fb6"
      },
      "outputs": [],
      "source": [
        "di1={'a':'apple','b':'banana'}"
      ]
    },
    {
      "cell_type": "code",
      "execution_count": null,
      "id": "ed0cc334",
      "metadata": {
        "id": "ed0cc334",
        "outputId": "a60f2dc9-dfd2-4308-80d4-569aebcbe985"
      },
      "outputs": [
        {
          "name": "stdout",
          "output_type": "stream",
          "text": [
            "a\n",
            "b\n"
          ]
        }
      ],
      "source": [
        "for i in di1:\n",
        "    print(i)"
      ]
    },
    {
      "cell_type": "code",
      "execution_count": null,
      "id": "23545de6",
      "metadata": {
        "id": "23545de6",
        "outputId": "04e75bcf-80ed-4650-965e-17861c855339"
      },
      "outputs": [
        {
          "name": "stdout",
          "output_type": "stream",
          "text": [
            "키: a, 값:apple\n",
            "키: b, 값:banana\n"
          ]
        }
      ],
      "source": [
        "for (k,v) in di1.items():\n",
        "    print(\"키: %s, 값:%s\" %(k,v))"
      ]
    },
    {
      "cell_type": "code",
      "execution_count": null,
      "id": "fa33bcf4",
      "metadata": {
        "id": "fa33bcf4"
      },
      "outputs": [],
      "source": [
        "#help(set)"
      ]
    },
    {
      "cell_type": "code",
      "execution_count": null,
      "id": "69886337",
      "metadata": {
        "id": "69886337"
      },
      "outputs": [],
      "source": [
        "#셋(중복없음)"
      ]
    },
    {
      "cell_type": "code",
      "execution_count": null,
      "id": "36f0f8c3",
      "metadata": {
        "id": "36f0f8c3"
      },
      "outputs": [],
      "source": [
        "set1=set([1,2,3])"
      ]
    },
    {
      "cell_type": "code",
      "execution_count": null,
      "id": "7e247344",
      "metadata": {
        "id": "7e247344",
        "outputId": "be0cd8e9-c570-480a-9000-8dbc655d39c5"
      },
      "outputs": [
        {
          "data": {
            "text/plain": [
              "{1, 2, 3}"
            ]
          },
          "execution_count": 37,
          "metadata": {},
          "output_type": "execute_result"
        }
      ],
      "source": [
        "set1"
      ]
    },
    {
      "cell_type": "code",
      "execution_count": null,
      "id": "426da4b4",
      "metadata": {
        "id": "426da4b4",
        "outputId": "cff8705a-faac-4101-ad0a-3932b12ac866"
      },
      "outputs": [
        {
          "data": {
            "text/plain": [
              "set"
            ]
          },
          "execution_count": 38,
          "metadata": {},
          "output_type": "execute_result"
        }
      ],
      "source": [
        "type(set1)"
      ]
    },
    {
      "cell_type": "code",
      "execution_count": null,
      "id": "7300e9ba",
      "metadata": {
        "id": "7300e9ba",
        "outputId": "9dd68c1e-c9a3-45c3-db60-0a27f1245594"
      },
      "outputs": [
        {
          "name": "stdout",
          "output_type": "stream",
          "text": [
            "1\n",
            "2\n",
            "3\n"
          ]
        }
      ],
      "source": [
        "for i in set1:\n",
        "    print(i)"
      ]
    },
    {
      "cell_type": "code",
      "execution_count": null,
      "id": "dd726a37",
      "metadata": {
        "id": "dd726a37"
      },
      "outputs": [],
      "source": [
        "set2=set([1,1,2,2])"
      ]
    },
    {
      "cell_type": "code",
      "execution_count": null,
      "id": "9f510687",
      "metadata": {
        "id": "9f510687",
        "outputId": "56096641-b9f8-4b28-b6d2-7dc9cc639daa"
      },
      "outputs": [
        {
          "name": "stdout",
          "output_type": "stream",
          "text": [
            "1\n",
            "2\n"
          ]
        }
      ],
      "source": [
        "for i in set2:\n",
        "    print(i)"
      ]
    },
    {
      "cell_type": "code",
      "execution_count": null,
      "id": "1aacbd2f",
      "metadata": {
        "id": "1aacbd2f"
      },
      "outputs": [],
      "source": [
        "#while"
      ]
    },
    {
      "cell_type": "code",
      "execution_count": null,
      "id": "cfcb395b",
      "metadata": {
        "id": "cfcb395b",
        "outputId": "a6e075fc-b8be-4313-f8ed-f0f0806f4645"
      },
      "outputs": [
        {
          "name": "stdout",
          "output_type": "stream",
          "text": [
            "1\n",
            "2\n",
            "3\n",
            "4\n"
          ]
        }
      ],
      "source": [
        "a=1\n",
        "while a<5:\n",
        "    print(a)\n",
        "    a+=1"
      ]
    },
    {
      "cell_type": "code",
      "execution_count": null,
      "id": "c493a7b0",
      "metadata": {
        "id": "c493a7b0"
      },
      "outputs": [],
      "source": []
    }
  ],
  "metadata": {
    "kernelspec": {
      "display_name": "Python 3 (ipykernel)",
      "language": "python",
      "name": "python3"
    },
    "language_info": {
      "codemirror_mode": {
        "name": "ipython",
        "version": 3
      },
      "file_extension": ".py",
      "mimetype": "text/x-python",
      "name": "python",
      "nbconvert_exporter": "python",
      "pygments_lexer": "ipython3",
      "version": "3.11.5"
    },
    "colab": {
      "provenance": [],
      "include_colab_link": true
    }
  },
  "nbformat": 4,
  "nbformat_minor": 5
}